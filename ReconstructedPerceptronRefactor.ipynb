{
  "nbformat": 4,
  "nbformat_minor": 0,
  "metadata": {
    "colab": {
      "provenance": []
    },
    "kernelspec": {
      "name": "python3",
      "display_name": "Python 3"
    },
    "language_info": {
      "name": "python"
    }
  },
  "cells": [
    {
      "cell_type": "markdown",
      "source": [
        "First we have to import the neccessary Libraries, though we won't be using Torch very much, as I am more comfortable with Numpy"
      ],
      "metadata": {
        "id": "ogMnssQKq6tT"
      }
    },
    {
      "cell_type": "code",
      "execution_count": 180,
      "metadata": {
        "id": "XAJ8KYNWqgf9"
      },
      "outputs": [],
      "source": [
        "import numpy as np\n",
        "import torch as tc\n",
        "import pandas as pd"
      ]
    },
    {
      "cell_type": "markdown",
      "source": [
        "We will now do the simple process of importing the Dataset using Pandas"
      ],
      "metadata": {
        "id": "SwDnxAIYrDT_"
      }
    },
    {
      "cell_type": "code",
      "source": [
        "URL = 'https://bit.ly/palmerpenguinscsv'\n",
        "data = pd.read_csv(URL)\n",
        "data.head()"
      ],
      "metadata": {
        "colab": {
          "base_uri": "https://localhost:8080/",
          "height": 206
        },
        "id": "5zGBm8MjrIjY",
        "outputId": "c8920b0b-a015-4fa2-97c4-9980c14c3431"
      },
      "execution_count": 181,
      "outputs": [
        {
          "output_type": "execute_result",
          "data": {
            "text/plain": [
              "   rowid species     island  bill_length_mm  bill_depth_mm  flipper_length_mm  \\\n",
              "0      1  Adelie  Torgersen            39.1           18.7              181.0   \n",
              "1      2  Adelie  Torgersen            39.5           17.4              186.0   \n",
              "2      3  Adelie  Torgersen            40.3           18.0              195.0   \n",
              "3      4  Adelie  Torgersen             NaN            NaN                NaN   \n",
              "4      5  Adelie  Torgersen            36.7           19.3              193.0   \n",
              "\n",
              "   body_mass_g     sex  year  \n",
              "0       3750.0    male  2007  \n",
              "1       3800.0  female  2007  \n",
              "2       3250.0  female  2007  \n",
              "3          NaN     NaN  2007  \n",
              "4       3450.0  female  2007  "
            ],
            "text/html": [
              "\n",
              "  <div id=\"df-06010bef-fba5-4f5a-9b54-169e7664ffea\" class=\"colab-df-container\">\n",
              "    <div>\n",
              "<style scoped>\n",
              "    .dataframe tbody tr th:only-of-type {\n",
              "        vertical-align: middle;\n",
              "    }\n",
              "\n",
              "    .dataframe tbody tr th {\n",
              "        vertical-align: top;\n",
              "    }\n",
              "\n",
              "    .dataframe thead th {\n",
              "        text-align: right;\n",
              "    }\n",
              "</style>\n",
              "<table border=\"1\" class=\"dataframe\">\n",
              "  <thead>\n",
              "    <tr style=\"text-align: right;\">\n",
              "      <th></th>\n",
              "      <th>rowid</th>\n",
              "      <th>species</th>\n",
              "      <th>island</th>\n",
              "      <th>bill_length_mm</th>\n",
              "      <th>bill_depth_mm</th>\n",
              "      <th>flipper_length_mm</th>\n",
              "      <th>body_mass_g</th>\n",
              "      <th>sex</th>\n",
              "      <th>year</th>\n",
              "    </tr>\n",
              "  </thead>\n",
              "  <tbody>\n",
              "    <tr>\n",
              "      <th>0</th>\n",
              "      <td>1</td>\n",
              "      <td>Adelie</td>\n",
              "      <td>Torgersen</td>\n",
              "      <td>39.1</td>\n",
              "      <td>18.7</td>\n",
              "      <td>181.0</td>\n",
              "      <td>3750.0</td>\n",
              "      <td>male</td>\n",
              "      <td>2007</td>\n",
              "    </tr>\n",
              "    <tr>\n",
              "      <th>1</th>\n",
              "      <td>2</td>\n",
              "      <td>Adelie</td>\n",
              "      <td>Torgersen</td>\n",
              "      <td>39.5</td>\n",
              "      <td>17.4</td>\n",
              "      <td>186.0</td>\n",
              "      <td>3800.0</td>\n",
              "      <td>female</td>\n",
              "      <td>2007</td>\n",
              "    </tr>\n",
              "    <tr>\n",
              "      <th>2</th>\n",
              "      <td>3</td>\n",
              "      <td>Adelie</td>\n",
              "      <td>Torgersen</td>\n",
              "      <td>40.3</td>\n",
              "      <td>18.0</td>\n",
              "      <td>195.0</td>\n",
              "      <td>3250.0</td>\n",
              "      <td>female</td>\n",
              "      <td>2007</td>\n",
              "    </tr>\n",
              "    <tr>\n",
              "      <th>3</th>\n",
              "      <td>4</td>\n",
              "      <td>Adelie</td>\n",
              "      <td>Torgersen</td>\n",
              "      <td>NaN</td>\n",
              "      <td>NaN</td>\n",
              "      <td>NaN</td>\n",
              "      <td>NaN</td>\n",
              "      <td>NaN</td>\n",
              "      <td>2007</td>\n",
              "    </tr>\n",
              "    <tr>\n",
              "      <th>4</th>\n",
              "      <td>5</td>\n",
              "      <td>Adelie</td>\n",
              "      <td>Torgersen</td>\n",
              "      <td>36.7</td>\n",
              "      <td>19.3</td>\n",
              "      <td>193.0</td>\n",
              "      <td>3450.0</td>\n",
              "      <td>female</td>\n",
              "      <td>2007</td>\n",
              "    </tr>\n",
              "  </tbody>\n",
              "</table>\n",
              "</div>\n",
              "    <div class=\"colab-df-buttons\">\n",
              "\n",
              "  <div class=\"colab-df-container\">\n",
              "    <button class=\"colab-df-convert\" onclick=\"convertToInteractive('df-06010bef-fba5-4f5a-9b54-169e7664ffea')\"\n",
              "            title=\"Convert this dataframe to an interactive table.\"\n",
              "            style=\"display:none;\">\n",
              "\n",
              "  <svg xmlns=\"http://www.w3.org/2000/svg\" height=\"24px\" viewBox=\"0 -960 960 960\">\n",
              "    <path d=\"M120-120v-720h720v720H120Zm60-500h600v-160H180v160Zm220 220h160v-160H400v160Zm0 220h160v-160H400v160ZM180-400h160v-160H180v160Zm440 0h160v-160H620v160ZM180-180h160v-160H180v160Zm440 0h160v-160H620v160Z\"/>\n",
              "  </svg>\n",
              "    </button>\n",
              "\n",
              "  <style>\n",
              "    .colab-df-container {\n",
              "      display:flex;\n",
              "      gap: 12px;\n",
              "    }\n",
              "\n",
              "    .colab-df-convert {\n",
              "      background-color: #E8F0FE;\n",
              "      border: none;\n",
              "      border-radius: 50%;\n",
              "      cursor: pointer;\n",
              "      display: none;\n",
              "      fill: #1967D2;\n",
              "      height: 32px;\n",
              "      padding: 0 0 0 0;\n",
              "      width: 32px;\n",
              "    }\n",
              "\n",
              "    .colab-df-convert:hover {\n",
              "      background-color: #E2EBFA;\n",
              "      box-shadow: 0px 1px 2px rgba(60, 64, 67, 0.3), 0px 1px 3px 1px rgba(60, 64, 67, 0.15);\n",
              "      fill: #174EA6;\n",
              "    }\n",
              "\n",
              "    .colab-df-buttons div {\n",
              "      margin-bottom: 4px;\n",
              "    }\n",
              "\n",
              "    [theme=dark] .colab-df-convert {\n",
              "      background-color: #3B4455;\n",
              "      fill: #D2E3FC;\n",
              "    }\n",
              "\n",
              "    [theme=dark] .colab-df-convert:hover {\n",
              "      background-color: #434B5C;\n",
              "      box-shadow: 0px 1px 3px 1px rgba(0, 0, 0, 0.15);\n",
              "      filter: drop-shadow(0px 1px 2px rgba(0, 0, 0, 0.3));\n",
              "      fill: #FFFFFF;\n",
              "    }\n",
              "  </style>\n",
              "\n",
              "    <script>\n",
              "      const buttonEl =\n",
              "        document.querySelector('#df-06010bef-fba5-4f5a-9b54-169e7664ffea button.colab-df-convert');\n",
              "      buttonEl.style.display =\n",
              "        google.colab.kernel.accessAllowed ? 'block' : 'none';\n",
              "\n",
              "      async function convertToInteractive(key) {\n",
              "        const element = document.querySelector('#df-06010bef-fba5-4f5a-9b54-169e7664ffea');\n",
              "        const dataTable =\n",
              "          await google.colab.kernel.invokeFunction('convertToInteractive',\n",
              "                                                    [key], {});\n",
              "        if (!dataTable) return;\n",
              "\n",
              "        const docLinkHtml = 'Like what you see? Visit the ' +\n",
              "          '<a target=\"_blank\" href=https://colab.research.google.com/notebooks/data_table.ipynb>data table notebook</a>'\n",
              "          + ' to learn more about interactive tables.';\n",
              "        element.innerHTML = '';\n",
              "        dataTable['output_type'] = 'display_data';\n",
              "        await google.colab.output.renderOutput(dataTable, element);\n",
              "        const docLink = document.createElement('div');\n",
              "        docLink.innerHTML = docLinkHtml;\n",
              "        element.appendChild(docLink);\n",
              "      }\n",
              "    </script>\n",
              "  </div>\n",
              "\n",
              "\n",
              "<div id=\"df-22b2782a-2053-4f87-be0c-696333f21db5\">\n",
              "  <button class=\"colab-df-quickchart\" onclick=\"quickchart('df-22b2782a-2053-4f87-be0c-696333f21db5')\"\n",
              "            title=\"Suggest charts\"\n",
              "            style=\"display:none;\">\n",
              "\n",
              "<svg xmlns=\"http://www.w3.org/2000/svg\" height=\"24px\"viewBox=\"0 0 24 24\"\n",
              "     width=\"24px\">\n",
              "    <g>\n",
              "        <path d=\"M19 3H5c-1.1 0-2 .9-2 2v14c0 1.1.9 2 2 2h14c1.1 0 2-.9 2-2V5c0-1.1-.9-2-2-2zM9 17H7v-7h2v7zm4 0h-2V7h2v10zm4 0h-2v-4h2v4z\"/>\n",
              "    </g>\n",
              "</svg>\n",
              "  </button>\n",
              "\n",
              "<style>\n",
              "  .colab-df-quickchart {\n",
              "      --bg-color: #E8F0FE;\n",
              "      --fill-color: #1967D2;\n",
              "      --hover-bg-color: #E2EBFA;\n",
              "      --hover-fill-color: #174EA6;\n",
              "      --disabled-fill-color: #AAA;\n",
              "      --disabled-bg-color: #DDD;\n",
              "  }\n",
              "\n",
              "  [theme=dark] .colab-df-quickchart {\n",
              "      --bg-color: #3B4455;\n",
              "      --fill-color: #D2E3FC;\n",
              "      --hover-bg-color: #434B5C;\n",
              "      --hover-fill-color: #FFFFFF;\n",
              "      --disabled-bg-color: #3B4455;\n",
              "      --disabled-fill-color: #666;\n",
              "  }\n",
              "\n",
              "  .colab-df-quickchart {\n",
              "    background-color: var(--bg-color);\n",
              "    border: none;\n",
              "    border-radius: 50%;\n",
              "    cursor: pointer;\n",
              "    display: none;\n",
              "    fill: var(--fill-color);\n",
              "    height: 32px;\n",
              "    padding: 0;\n",
              "    width: 32px;\n",
              "  }\n",
              "\n",
              "  .colab-df-quickchart:hover {\n",
              "    background-color: var(--hover-bg-color);\n",
              "    box-shadow: 0 1px 2px rgba(60, 64, 67, 0.3), 0 1px 3px 1px rgba(60, 64, 67, 0.15);\n",
              "    fill: var(--button-hover-fill-color);\n",
              "  }\n",
              "\n",
              "  .colab-df-quickchart-complete:disabled,\n",
              "  .colab-df-quickchart-complete:disabled:hover {\n",
              "    background-color: var(--disabled-bg-color);\n",
              "    fill: var(--disabled-fill-color);\n",
              "    box-shadow: none;\n",
              "  }\n",
              "\n",
              "  .colab-df-spinner {\n",
              "    border: 2px solid var(--fill-color);\n",
              "    border-color: transparent;\n",
              "    border-bottom-color: var(--fill-color);\n",
              "    animation:\n",
              "      spin 1s steps(1) infinite;\n",
              "  }\n",
              "\n",
              "  @keyframes spin {\n",
              "    0% {\n",
              "      border-color: transparent;\n",
              "      border-bottom-color: var(--fill-color);\n",
              "      border-left-color: var(--fill-color);\n",
              "    }\n",
              "    20% {\n",
              "      border-color: transparent;\n",
              "      border-left-color: var(--fill-color);\n",
              "      border-top-color: var(--fill-color);\n",
              "    }\n",
              "    30% {\n",
              "      border-color: transparent;\n",
              "      border-left-color: var(--fill-color);\n",
              "      border-top-color: var(--fill-color);\n",
              "      border-right-color: var(--fill-color);\n",
              "    }\n",
              "    40% {\n",
              "      border-color: transparent;\n",
              "      border-right-color: var(--fill-color);\n",
              "      border-top-color: var(--fill-color);\n",
              "    }\n",
              "    60% {\n",
              "      border-color: transparent;\n",
              "      border-right-color: var(--fill-color);\n",
              "    }\n",
              "    80% {\n",
              "      border-color: transparent;\n",
              "      border-right-color: var(--fill-color);\n",
              "      border-bottom-color: var(--fill-color);\n",
              "    }\n",
              "    90% {\n",
              "      border-color: transparent;\n",
              "      border-bottom-color: var(--fill-color);\n",
              "    }\n",
              "  }\n",
              "</style>\n",
              "\n",
              "  <script>\n",
              "    async function quickchart(key) {\n",
              "      const quickchartButtonEl =\n",
              "        document.querySelector('#' + key + ' button');\n",
              "      quickchartButtonEl.disabled = true;  // To prevent multiple clicks.\n",
              "      quickchartButtonEl.classList.add('colab-df-spinner');\n",
              "      try {\n",
              "        const charts = await google.colab.kernel.invokeFunction(\n",
              "            'suggestCharts', [key], {});\n",
              "      } catch (error) {\n",
              "        console.error('Error during call to suggestCharts:', error);\n",
              "      }\n",
              "      quickchartButtonEl.classList.remove('colab-df-spinner');\n",
              "      quickchartButtonEl.classList.add('colab-df-quickchart-complete');\n",
              "    }\n",
              "    (() => {\n",
              "      let quickchartButtonEl =\n",
              "        document.querySelector('#df-22b2782a-2053-4f87-be0c-696333f21db5 button');\n",
              "      quickchartButtonEl.style.display =\n",
              "        google.colab.kernel.accessAllowed ? 'block' : 'none';\n",
              "    })();\n",
              "  </script>\n",
              "</div>\n",
              "    </div>\n",
              "  </div>\n"
            ],
            "application/vnd.google.colaboratory.intrinsic+json": {
              "type": "dataframe",
              "variable_name": "data",
              "summary": "{\n  \"name\": \"data\",\n  \"rows\": 344,\n  \"fields\": [\n    {\n      \"column\": \"rowid\",\n      \"properties\": {\n        \"dtype\": \"number\",\n        \"std\": 99,\n        \"min\": 1,\n        \"max\": 344,\n        \"num_unique_values\": 344,\n        \"samples\": [\n          195,\n          158,\n          226\n        ],\n        \"semantic_type\": \"\",\n        \"description\": \"\"\n      }\n    },\n    {\n      \"column\": \"species\",\n      \"properties\": {\n        \"dtype\": \"category\",\n        \"num_unique_values\": 3,\n        \"samples\": [\n          \"Adelie\",\n          \"Gentoo\",\n          \"Chinstrap\"\n        ],\n        \"semantic_type\": \"\",\n        \"description\": \"\"\n      }\n    },\n    {\n      \"column\": \"island\",\n      \"properties\": {\n        \"dtype\": \"category\",\n        \"num_unique_values\": 3,\n        \"samples\": [\n          \"Torgersen\",\n          \"Biscoe\",\n          \"Dream\"\n        ],\n        \"semantic_type\": \"\",\n        \"description\": \"\"\n      }\n    },\n    {\n      \"column\": \"bill_length_mm\",\n      \"properties\": {\n        \"dtype\": \"number\",\n        \"std\": 5.4595837139265315,\n        \"min\": 32.1,\n        \"max\": 59.6,\n        \"num_unique_values\": 164,\n        \"samples\": [\n          49.4,\n          43.8,\n          43.4\n        ],\n        \"semantic_type\": \"\",\n        \"description\": \"\"\n      }\n    },\n    {\n      \"column\": \"bill_depth_mm\",\n      \"properties\": {\n        \"dtype\": \"number\",\n        \"std\": 1.9747931568167814,\n        \"min\": 13.1,\n        \"max\": 21.5,\n        \"num_unique_values\": 80,\n        \"samples\": [\n          16.9,\n          18.7,\n          18.6\n        ],\n        \"semantic_type\": \"\",\n        \"description\": \"\"\n      }\n    },\n    {\n      \"column\": \"flipper_length_mm\",\n      \"properties\": {\n        \"dtype\": \"number\",\n        \"std\": 14.061713679356888,\n        \"min\": 172.0,\n        \"max\": 231.0,\n        \"num_unique_values\": 55,\n        \"samples\": [\n          201.0,\n          180.0,\n          211.0\n        ],\n        \"semantic_type\": \"\",\n        \"description\": \"\"\n      }\n    },\n    {\n      \"column\": \"body_mass_g\",\n      \"properties\": {\n        \"dtype\": \"number\",\n        \"std\": 801.9545356980955,\n        \"min\": 2700.0,\n        \"max\": 6300.0,\n        \"num_unique_values\": 94,\n        \"samples\": [\n          4350.0,\n          4150.0,\n          5700.0\n        ],\n        \"semantic_type\": \"\",\n        \"description\": \"\"\n      }\n    },\n    {\n      \"column\": \"sex\",\n      \"properties\": {\n        \"dtype\": \"category\",\n        \"num_unique_values\": 2,\n        \"samples\": [\n          \"female\",\n          \"male\"\n        ],\n        \"semantic_type\": \"\",\n        \"description\": \"\"\n      }\n    },\n    {\n      \"column\": \"year\",\n      \"properties\": {\n        \"dtype\": \"number\",\n        \"std\": 0,\n        \"min\": 2007,\n        \"max\": 2009,\n        \"num_unique_values\": 3,\n        \"samples\": [\n          2007,\n          2008\n        ],\n        \"semantic_type\": \"\",\n        \"description\": \"\"\n      }\n    }\n  ]\n}"
            }
          },
          "metadata": {},
          "execution_count": 181
        }
      ]
    },
    {
      "cell_type": "markdown",
      "source": [
        "We must delete all Missing Data from dataframe. We will also filter out rows with output species of Adelie to make a simple Binary Classifier"
      ],
      "metadata": {
        "id": "sQLMS-fnrn3i"
      }
    },
    {
      "cell_type": "code",
      "source": [
        "data.dropna(inplace = True)\n",
        "data.info()"
      ],
      "metadata": {
        "colab": {
          "base_uri": "https://localhost:8080/"
        },
        "id": "2nlmZ91grsjm",
        "outputId": "dffe2b79-8428-49c5-f3e2-dcece3e341f3"
      },
      "execution_count": 182,
      "outputs": [
        {
          "output_type": "stream",
          "name": "stdout",
          "text": [
            "<class 'pandas.core.frame.DataFrame'>\n",
            "Int64Index: 333 entries, 0 to 343\n",
            "Data columns (total 9 columns):\n",
            " #   Column             Non-Null Count  Dtype  \n",
            "---  ------             --------------  -----  \n",
            " 0   rowid              333 non-null    int64  \n",
            " 1   species            333 non-null    object \n",
            " 2   island             333 non-null    object \n",
            " 3   bill_length_mm     333 non-null    float64\n",
            " 4   bill_depth_mm      333 non-null    float64\n",
            " 5   flipper_length_mm  333 non-null    float64\n",
            " 6   body_mass_g        333 non-null    float64\n",
            " 7   sex                333 non-null    object \n",
            " 8   year               333 non-null    int64  \n",
            "dtypes: float64(4), int64(2), object(3)\n",
            "memory usage: 26.0+ KB\n"
          ]
        }
      ]
    },
    {
      "cell_type": "code",
      "source": [
        "data = data[data['species'] != 'Adelie']"
      ],
      "metadata": {
        "id": "bUbKcD4oIp16"
      },
      "execution_count": 183,
      "outputs": []
    },
    {
      "cell_type": "markdown",
      "source": [
        "We will now create a numpy array of the filtered dataframe, and transpose it to make things simple"
      ],
      "metadata": {
        "id": "3CqWzQTXsCRl"
      }
    },
    {
      "cell_type": "code",
      "source": [
        "data_nump = np.array([data['bill_length_mm'], data['bill_depth_mm'], data['flipper_length_mm'], data['body_mass_g'],data['species']])\n",
        "data_nump = np.transpose(data_nump)\n",
        "data_nump\n"
      ],
      "metadata": {
        "colab": {
          "base_uri": "https://localhost:8080/"
        },
        "id": "GeNuY65BsM6E",
        "outputId": "e4912707-0f55-4dbc-dc7d-b4a731856ba6"
      },
      "execution_count": 193,
      "outputs": [
        {
          "output_type": "execute_result",
          "data": {
            "text/plain": [
              "array([[46.1, 13.2, 211.0, 4500.0, 'Gentoo'],\n",
              "       [50.0, 16.3, 230.0, 5700.0, 'Gentoo'],\n",
              "       [48.7, 14.1, 210.0, 4450.0, 'Gentoo'],\n",
              "       [50.0, 15.2, 218.0, 5700.0, 'Gentoo'],\n",
              "       [47.6, 14.5, 215.0, 5400.0, 'Gentoo'],\n",
              "       [46.5, 13.5, 210.0, 4550.0, 'Gentoo'],\n",
              "       [45.4, 14.6, 211.0, 4800.0, 'Gentoo'],\n",
              "       [46.7, 15.3, 219.0, 5200.0, 'Gentoo'],\n",
              "       [43.3, 13.4, 209.0, 4400.0, 'Gentoo'],\n",
              "       [46.8, 15.4, 215.0, 5150.0, 'Gentoo'],\n",
              "       [40.9, 13.7, 214.0, 4650.0, 'Gentoo'],\n",
              "       [49.0, 16.1, 216.0, 5550.0, 'Gentoo'],\n",
              "       [45.5, 13.7, 214.0, 4650.0, 'Gentoo'],\n",
              "       [48.4, 14.6, 213.0, 5850.0, 'Gentoo'],\n",
              "       [45.8, 14.6, 210.0, 4200.0, 'Gentoo'],\n",
              "       [49.3, 15.7, 217.0, 5850.0, 'Gentoo'],\n",
              "       [42.0, 13.5, 210.0, 4150.0, 'Gentoo'],\n",
              "       [49.2, 15.2, 221.0, 6300.0, 'Gentoo'],\n",
              "       [46.2, 14.5, 209.0, 4800.0, 'Gentoo'],\n",
              "       [48.7, 15.1, 222.0, 5350.0, 'Gentoo'],\n",
              "       [50.2, 14.3, 218.0, 5700.0, 'Gentoo'],\n",
              "       [45.1, 14.5, 215.0, 5000.0, 'Gentoo'],\n",
              "       [46.5, 14.5, 213.0, 4400.0, 'Gentoo'],\n",
              "       [46.3, 15.8, 215.0, 5050.0, 'Gentoo'],\n",
              "       [42.9, 13.1, 215.0, 5000.0, 'Gentoo'],\n",
              "       [46.1, 15.1, 215.0, 5100.0, 'Gentoo'],\n",
              "       [47.8, 15.0, 215.0, 5650.0, 'Gentoo'],\n",
              "       [48.2, 14.3, 210.0, 4600.0, 'Gentoo'],\n",
              "       [50.0, 15.3, 220.0, 5550.0, 'Gentoo'],\n",
              "       [47.3, 15.3, 222.0, 5250.0, 'Gentoo'],\n",
              "       [42.8, 14.2, 209.0, 4700.0, 'Gentoo'],\n",
              "       [45.1, 14.5, 207.0, 5050.0, 'Gentoo'],\n",
              "       [59.6, 17.0, 230.0, 6050.0, 'Gentoo'],\n",
              "       [49.1, 14.8, 220.0, 5150.0, 'Gentoo'],\n",
              "       [48.4, 16.3, 220.0, 5400.0, 'Gentoo'],\n",
              "       [42.6, 13.7, 213.0, 4950.0, 'Gentoo'],\n",
              "       [44.4, 17.3, 219.0, 5250.0, 'Gentoo'],\n",
              "       [44.0, 13.6, 208.0, 4350.0, 'Gentoo'],\n",
              "       [48.7, 15.7, 208.0, 5350.0, 'Gentoo'],\n",
              "       [42.7, 13.7, 208.0, 3950.0, 'Gentoo'],\n",
              "       [49.6, 16.0, 225.0, 5700.0, 'Gentoo'],\n",
              "       [45.3, 13.7, 210.0, 4300.0, 'Gentoo'],\n",
              "       [49.6, 15.0, 216.0, 4750.0, 'Gentoo'],\n",
              "       [50.5, 15.9, 222.0, 5550.0, 'Gentoo'],\n",
              "       [43.6, 13.9, 217.0, 4900.0, 'Gentoo'],\n",
              "       [45.5, 13.9, 210.0, 4200.0, 'Gentoo'],\n",
              "       [50.5, 15.9, 225.0, 5400.0, 'Gentoo'],\n",
              "       [44.9, 13.3, 213.0, 5100.0, 'Gentoo'],\n",
              "       [45.2, 15.8, 215.0, 5300.0, 'Gentoo'],\n",
              "       [46.6, 14.2, 210.0, 4850.0, 'Gentoo'],\n",
              "       [48.5, 14.1, 220.0, 5300.0, 'Gentoo'],\n",
              "       [45.1, 14.4, 210.0, 4400.0, 'Gentoo'],\n",
              "       [50.1, 15.0, 225.0, 5000.0, 'Gentoo'],\n",
              "       [46.5, 14.4, 217.0, 4900.0, 'Gentoo'],\n",
              "       [45.0, 15.4, 220.0, 5050.0, 'Gentoo'],\n",
              "       [43.8, 13.9, 208.0, 4300.0, 'Gentoo'],\n",
              "       [45.5, 15.0, 220.0, 5000.0, 'Gentoo'],\n",
              "       [43.2, 14.5, 208.0, 4450.0, 'Gentoo'],\n",
              "       [50.4, 15.3, 224.0, 5550.0, 'Gentoo'],\n",
              "       [45.3, 13.8, 208.0, 4200.0, 'Gentoo'],\n",
              "       [46.2, 14.9, 221.0, 5300.0, 'Gentoo'],\n",
              "       [45.7, 13.9, 214.0, 4400.0, 'Gentoo'],\n",
              "       [54.3, 15.7, 231.0, 5650.0, 'Gentoo'],\n",
              "       [45.8, 14.2, 219.0, 4700.0, 'Gentoo'],\n",
              "       [49.8, 16.8, 230.0, 5700.0, 'Gentoo'],\n",
              "       [49.5, 16.2, 229.0, 5800.0, 'Gentoo'],\n",
              "       [43.5, 14.2, 220.0, 4700.0, 'Gentoo'],\n",
              "       [50.7, 15.0, 223.0, 5550.0, 'Gentoo'],\n",
              "       [47.7, 15.0, 216.0, 4750.0, 'Gentoo'],\n",
              "       [46.4, 15.6, 221.0, 5000.0, 'Gentoo'],\n",
              "       [48.2, 15.6, 221.0, 5100.0, 'Gentoo'],\n",
              "       [46.5, 14.8, 217.0, 5200.0, 'Gentoo'],\n",
              "       [46.4, 15.0, 216.0, 4700.0, 'Gentoo'],\n",
              "       [48.6, 16.0, 230.0, 5800.0, 'Gentoo'],\n",
              "       [47.5, 14.2, 209.0, 4600.0, 'Gentoo'],\n",
              "       [51.1, 16.3, 220.0, 6000.0, 'Gentoo'],\n",
              "       [45.2, 13.8, 215.0, 4750.0, 'Gentoo'],\n",
              "       [45.2, 16.4, 223.0, 5950.0, 'Gentoo'],\n",
              "       [49.1, 14.5, 212.0, 4625.0, 'Gentoo'],\n",
              "       [52.5, 15.6, 221.0, 5450.0, 'Gentoo'],\n",
              "       [47.4, 14.6, 212.0, 4725.0, 'Gentoo'],\n",
              "       [50.0, 15.9, 224.0, 5350.0, 'Gentoo'],\n",
              "       [44.9, 13.8, 212.0, 4750.0, 'Gentoo'],\n",
              "       [50.8, 17.3, 228.0, 5600.0, 'Gentoo'],\n",
              "       [43.4, 14.4, 218.0, 4600.0, 'Gentoo'],\n",
              "       [51.3, 14.2, 218.0, 5300.0, 'Gentoo'],\n",
              "       [47.5, 14.0, 212.0, 4875.0, 'Gentoo'],\n",
              "       [52.1, 17.0, 230.0, 5550.0, 'Gentoo'],\n",
              "       [47.5, 15.0, 218.0, 4950.0, 'Gentoo'],\n",
              "       [52.2, 17.1, 228.0, 5400.0, 'Gentoo'],\n",
              "       [45.5, 14.5, 212.0, 4750.0, 'Gentoo'],\n",
              "       [49.5, 16.1, 224.0, 5650.0, 'Gentoo'],\n",
              "       [44.5, 14.7, 214.0, 4850.0, 'Gentoo'],\n",
              "       [50.8, 15.7, 226.0, 5200.0, 'Gentoo'],\n",
              "       [49.4, 15.8, 216.0, 4925.0, 'Gentoo'],\n",
              "       [46.9, 14.6, 222.0, 4875.0, 'Gentoo'],\n",
              "       [48.4, 14.4, 203.0, 4625.0, 'Gentoo'],\n",
              "       [51.1, 16.5, 225.0, 5250.0, 'Gentoo'],\n",
              "       [48.5, 15.0, 219.0, 4850.0, 'Gentoo'],\n",
              "       [55.9, 17.0, 228.0, 5600.0, 'Gentoo'],\n",
              "       [47.2, 15.5, 215.0, 4975.0, 'Gentoo'],\n",
              "       [49.1, 15.0, 228.0, 5500.0, 'Gentoo'],\n",
              "       [46.8, 16.1, 215.0, 5500.0, 'Gentoo'],\n",
              "       [41.7, 14.7, 210.0, 4700.0, 'Gentoo'],\n",
              "       [53.4, 15.8, 219.0, 5500.0, 'Gentoo'],\n",
              "       [43.3, 14.0, 208.0, 4575.0, 'Gentoo'],\n",
              "       [48.1, 15.1, 209.0, 5500.0, 'Gentoo'],\n",
              "       [50.5, 15.2, 216.0, 5000.0, 'Gentoo'],\n",
              "       [49.8, 15.9, 229.0, 5950.0, 'Gentoo'],\n",
              "       [43.5, 15.2, 213.0, 4650.0, 'Gentoo'],\n",
              "       [51.5, 16.3, 230.0, 5500.0, 'Gentoo'],\n",
              "       [46.2, 14.1, 217.0, 4375.0, 'Gentoo'],\n",
              "       [55.1, 16.0, 230.0, 5850.0, 'Gentoo'],\n",
              "       [48.8, 16.2, 222.0, 6000.0, 'Gentoo'],\n",
              "       [47.2, 13.7, 214.0, 4925.0, 'Gentoo'],\n",
              "       [46.8, 14.3, 215.0, 4850.0, 'Gentoo'],\n",
              "       [50.4, 15.7, 222.0, 5750.0, 'Gentoo'],\n",
              "       [45.2, 14.8, 212.0, 5200.0, 'Gentoo'],\n",
              "       [49.9, 16.1, 213.0, 5400.0, 'Gentoo'],\n",
              "       [46.5, 17.9, 192.0, 3500.0, 'Chinstrap'],\n",
              "       [50.0, 19.5, 196.0, 3900.0, 'Chinstrap'],\n",
              "       [51.3, 19.2, 193.0, 3650.0, 'Chinstrap'],\n",
              "       [45.4, 18.7, 188.0, 3525.0, 'Chinstrap'],\n",
              "       [52.7, 19.8, 197.0, 3725.0, 'Chinstrap'],\n",
              "       [45.2, 17.8, 198.0, 3950.0, 'Chinstrap'],\n",
              "       [46.1, 18.2, 178.0, 3250.0, 'Chinstrap'],\n",
              "       [51.3, 18.2, 197.0, 3750.0, 'Chinstrap'],\n",
              "       [46.0, 18.9, 195.0, 4150.0, 'Chinstrap'],\n",
              "       [51.3, 19.9, 198.0, 3700.0, 'Chinstrap'],\n",
              "       [46.6, 17.8, 193.0, 3800.0, 'Chinstrap'],\n",
              "       [51.7, 20.3, 194.0, 3775.0, 'Chinstrap'],\n",
              "       [47.0, 17.3, 185.0, 3700.0, 'Chinstrap'],\n",
              "       [52.0, 18.1, 201.0, 4050.0, 'Chinstrap'],\n",
              "       [45.9, 17.1, 190.0, 3575.0, 'Chinstrap'],\n",
              "       [50.5, 19.6, 201.0, 4050.0, 'Chinstrap'],\n",
              "       [50.3, 20.0, 197.0, 3300.0, 'Chinstrap'],\n",
              "       [58.0, 17.8, 181.0, 3700.0, 'Chinstrap'],\n",
              "       [46.4, 18.6, 190.0, 3450.0, 'Chinstrap'],\n",
              "       [49.2, 18.2, 195.0, 4400.0, 'Chinstrap'],\n",
              "       [42.4, 17.3, 181.0, 3600.0, 'Chinstrap'],\n",
              "       [48.5, 17.5, 191.0, 3400.0, 'Chinstrap'],\n",
              "       [43.2, 16.6, 187.0, 2900.0, 'Chinstrap'],\n",
              "       [50.6, 19.4, 193.0, 3800.0, 'Chinstrap'],\n",
              "       [46.7, 17.9, 195.0, 3300.0, 'Chinstrap'],\n",
              "       [52.0, 19.0, 197.0, 4150.0, 'Chinstrap'],\n",
              "       [50.5, 18.4, 200.0, 3400.0, 'Chinstrap'],\n",
              "       [49.5, 19.0, 200.0, 3800.0, 'Chinstrap'],\n",
              "       [46.4, 17.8, 191.0, 3700.0, 'Chinstrap'],\n",
              "       [52.8, 20.0, 205.0, 4550.0, 'Chinstrap'],\n",
              "       [40.9, 16.6, 187.0, 3200.0, 'Chinstrap'],\n",
              "       [54.2, 20.8, 201.0, 4300.0, 'Chinstrap'],\n",
              "       [42.5, 16.7, 187.0, 3350.0, 'Chinstrap'],\n",
              "       [51.0, 18.8, 203.0, 4100.0, 'Chinstrap'],\n",
              "       [49.7, 18.6, 195.0, 3600.0, 'Chinstrap'],\n",
              "       [47.5, 16.8, 199.0, 3900.0, 'Chinstrap'],\n",
              "       [47.6, 18.3, 195.0, 3850.0, 'Chinstrap'],\n",
              "       [52.0, 20.7, 210.0, 4800.0, 'Chinstrap'],\n",
              "       [46.9, 16.6, 192.0, 2700.0, 'Chinstrap'],\n",
              "       [53.5, 19.9, 205.0, 4500.0, 'Chinstrap'],\n",
              "       [49.0, 19.5, 210.0, 3950.0, 'Chinstrap'],\n",
              "       [46.2, 17.5, 187.0, 3650.0, 'Chinstrap'],\n",
              "       [50.9, 19.1, 196.0, 3550.0, 'Chinstrap'],\n",
              "       [45.5, 17.0, 196.0, 3500.0, 'Chinstrap'],\n",
              "       [50.9, 17.9, 196.0, 3675.0, 'Chinstrap'],\n",
              "       [50.8, 18.5, 201.0, 4450.0, 'Chinstrap'],\n",
              "       [50.1, 17.9, 190.0, 3400.0, 'Chinstrap'],\n",
              "       [49.0, 19.6, 212.0, 4300.0, 'Chinstrap'],\n",
              "       [51.5, 18.7, 187.0, 3250.0, 'Chinstrap'],\n",
              "       [49.8, 17.3, 198.0, 3675.0, 'Chinstrap'],\n",
              "       [48.1, 16.4, 199.0, 3325.0, 'Chinstrap'],\n",
              "       [51.4, 19.0, 201.0, 3950.0, 'Chinstrap'],\n",
              "       [45.7, 17.3, 193.0, 3600.0, 'Chinstrap'],\n",
              "       [50.7, 19.7, 203.0, 4050.0, 'Chinstrap'],\n",
              "       [42.5, 17.3, 187.0, 3350.0, 'Chinstrap'],\n",
              "       [52.2, 18.8, 197.0, 3450.0, 'Chinstrap'],\n",
              "       [45.2, 16.6, 191.0, 3250.0, 'Chinstrap'],\n",
              "       [49.3, 19.9, 203.0, 4050.0, 'Chinstrap'],\n",
              "       [50.2, 18.8, 202.0, 3800.0, 'Chinstrap'],\n",
              "       [45.6, 19.4, 194.0, 3525.0, 'Chinstrap'],\n",
              "       [51.9, 19.5, 206.0, 3950.0, 'Chinstrap'],\n",
              "       [46.8, 16.5, 189.0, 3650.0, 'Chinstrap'],\n",
              "       [45.7, 17.0, 195.0, 3650.0, 'Chinstrap'],\n",
              "       [55.8, 19.8, 207.0, 4000.0, 'Chinstrap'],\n",
              "       [43.5, 18.1, 202.0, 3400.0, 'Chinstrap'],\n",
              "       [49.6, 18.2, 193.0, 3775.0, 'Chinstrap'],\n",
              "       [50.8, 19.0, 210.0, 4100.0, 'Chinstrap'],\n",
              "       [50.2, 18.7, 198.0, 3775.0, 'Chinstrap']], dtype=object)"
            ]
          },
          "metadata": {},
          "execution_count": 193
        }
      ]
    },
    {
      "cell_type": "markdown",
      "source": [
        "Instead of using PyTorch's rand permutation, we will be using numpy's Shuffle Function"
      ],
      "metadata": {
        "id": "ORIjLwJif29b"
      }
    },
    {
      "cell_type": "code",
      "source": [
        "np.random.shuffle(data_nump)"
      ],
      "metadata": {
        "id": "kNDf3Hjvtudj"
      },
      "execution_count": 194,
      "outputs": []
    },
    {
      "cell_type": "code",
      "source": [
        "print(data_nump)"
      ],
      "metadata": {
        "colab": {
          "base_uri": "https://localhost:8080/"
        },
        "id": "n41mHAK1PAX9",
        "outputId": "5a6474f5-e88f-4a71-fdc5-91aa4c2f4097"
      },
      "execution_count": 195,
      "outputs": [
        {
          "output_type": "stream",
          "name": "stdout",
          "text": [
            "[[51.5 18.7 187.0 3250.0 'Chinstrap']\n",
            " [48.4 14.4 203.0 4625.0 'Gentoo']\n",
            " [42.8 14.2 209.0 4700.0 'Gentoo']\n",
            " [51.1 16.3 220.0 6000.0 'Gentoo']\n",
            " [45.5 17.0 196.0 3500.0 'Chinstrap']\n",
            " [42.6 13.7 213.0 4950.0 'Gentoo']\n",
            " [46.4 17.8 191.0 3700.0 'Chinstrap']\n",
            " [50.7 19.7 203.0 4050.0 'Chinstrap']\n",
            " [54.3 15.7 231.0 5650.0 'Gentoo']\n",
            " [40.9 16.6 187.0 3200.0 'Chinstrap']\n",
            " [47.0 17.3 185.0 3700.0 'Chinstrap']\n",
            " [45.5 13.7 214.0 4650.0 'Gentoo']\n",
            " [45.3 13.7 210.0 4300.0 'Gentoo']\n",
            " [50.4 15.3 224.0 5550.0 'Gentoo']\n",
            " [44.0 13.6 208.0 4350.0 'Gentoo']\n",
            " [49.2 15.2 221.0 6300.0 'Gentoo']\n",
            " [46.5 14.8 217.0 5200.0 'Gentoo']\n",
            " [46.6 14.2 210.0 4850.0 'Gentoo']\n",
            " [48.7 15.7 208.0 5350.0 'Gentoo']\n",
            " [47.6 18.3 195.0 3850.0 'Chinstrap']\n",
            " [49.2 18.2 195.0 4400.0 'Chinstrap']\n",
            " [47.8 15.0 215.0 5650.0 'Gentoo']\n",
            " [45.7 17.3 193.0 3600.0 'Chinstrap']\n",
            " [47.2 13.7 214.0 4925.0 'Gentoo']\n",
            " [45.2 13.8 215.0 4750.0 'Gentoo']\n",
            " [46.8 16.1 215.0 5500.0 'Gentoo']\n",
            " [50.5 15.9 225.0 5400.0 'Gentoo']\n",
            " [44.4 17.3 219.0 5250.0 'Gentoo']\n",
            " [46.7 17.9 195.0 3300.0 'Chinstrap']\n",
            " [52.2 17.1 228.0 5400.0 'Gentoo']\n",
            " [49.1 14.5 212.0 4625.0 'Gentoo']\n",
            " [50.5 18.4 200.0 3400.0 'Chinstrap']\n",
            " [50.0 16.3 230.0 5700.0 'Gentoo']\n",
            " [46.1 13.2 211.0 4500.0 'Gentoo']\n",
            " [51.3 14.2 218.0 5300.0 'Gentoo']\n",
            " [45.5 13.9 210.0 4200.0 'Gentoo']\n",
            " [50.3 20.0 197.0 3300.0 'Chinstrap']\n",
            " [48.6 16.0 230.0 5800.0 'Gentoo']\n",
            " [45.1 14.4 210.0 4400.0 'Gentoo']\n",
            " [44.9 13.8 212.0 4750.0 'Gentoo']\n",
            " [46.7 15.3 219.0 5200.0 'Gentoo']\n",
            " [41.7 14.7 210.0 4700.0 'Gentoo']\n",
            " [45.4 18.7 188.0 3525.0 'Chinstrap']\n",
            " [53.4 15.8 219.0 5500.0 'Gentoo']\n",
            " [52.8 20.0 205.0 4550.0 'Chinstrap']\n",
            " [46.6 17.8 193.0 3800.0 'Chinstrap']\n",
            " [48.7 15.1 222.0 5350.0 'Gentoo']\n",
            " [46.9 16.6 192.0 2700.0 'Chinstrap']\n",
            " [52.7 19.8 197.0 3725.0 'Chinstrap']\n",
            " [48.2 15.6 221.0 5100.0 'Gentoo']\n",
            " [50.5 15.2 216.0 5000.0 'Gentoo']\n",
            " [43.6 13.9 217.0 4900.0 'Gentoo']\n",
            " [50.5 15.9 222.0 5550.0 'Gentoo']\n",
            " [52.5 15.6 221.0 5450.0 'Gentoo']\n",
            " [50.8 19.0 210.0 4100.0 'Chinstrap']\n",
            " [51.3 18.2 197.0 3750.0 'Chinstrap']\n",
            " [46.9 14.6 222.0 4875.0 'Gentoo']\n",
            " [58.0 17.8 181.0 3700.0 'Chinstrap']\n",
            " [48.2 14.3 210.0 4600.0 'Gentoo']\n",
            " [49.3 15.7 217.0 5850.0 'Gentoo']\n",
            " [45.2 16.6 191.0 3250.0 'Chinstrap']\n",
            " [52.1 17.0 230.0 5550.0 'Gentoo']\n",
            " [46.0 18.9 195.0 4150.0 'Chinstrap']\n",
            " [45.6 19.4 194.0 3525.0 'Chinstrap']\n",
            " [49.9 16.1 213.0 5400.0 'Gentoo']\n",
            " [46.5 17.9 192.0 3500.0 'Chinstrap']\n",
            " [47.7 15.0 216.0 4750.0 'Gentoo']\n",
            " [55.9 17.0 228.0 5600.0 'Gentoo']\n",
            " [45.5 15.0 220.0 5000.0 'Gentoo']\n",
            " [55.8 19.8 207.0 4000.0 'Chinstrap']\n",
            " [50.9 17.9 196.0 3675.0 'Chinstrap']\n",
            " [46.2 14.1 217.0 4375.0 'Gentoo']\n",
            " [49.5 16.2 229.0 5800.0 'Gentoo']\n",
            " [51.3 19.9 198.0 3700.0 'Chinstrap']\n",
            " [43.2 14.5 208.0 4450.0 'Gentoo']\n",
            " [48.5 17.5 191.0 3400.0 'Chinstrap']\n",
            " [43.2 16.6 187.0 2900.0 'Chinstrap']\n",
            " [50.8 17.3 228.0 5600.0 'Gentoo']\n",
            " [48.4 16.3 220.0 5400.0 'Gentoo']\n",
            " [43.3 14.0 208.0 4575.0 'Gentoo']\n",
            " [49.6 18.2 193.0 3775.0 'Chinstrap']\n",
            " [49.8 15.9 229.0 5950.0 'Gentoo']\n",
            " [50.0 15.2 218.0 5700.0 'Gentoo']\n",
            " [50.8 18.5 201.0 4450.0 'Chinstrap']\n",
            " [50.0 15.3 220.0 5550.0 'Gentoo']\n",
            " [46.5 13.5 210.0 4550.0 'Gentoo']\n",
            " [45.2 16.4 223.0 5950.0 'Gentoo']\n",
            " [49.6 16.0 225.0 5700.0 'Gentoo']\n",
            " [49.7 18.6 195.0 3600.0 'Chinstrap']\n",
            " [49.6 15.0 216.0 4750.0 'Gentoo']\n",
            " [46.2 14.5 209.0 4800.0 'Gentoo']\n",
            " [47.2 15.5 215.0 4975.0 'Gentoo']\n",
            " [43.5 14.2 220.0 4700.0 'Gentoo']\n",
            " [45.7 13.9 214.0 4400.0 'Gentoo']\n",
            " [48.8 16.2 222.0 6000.0 'Gentoo']\n",
            " [50.5 19.6 201.0 4050.0 'Chinstrap']\n",
            " [43.5 18.1 202.0 3400.0 'Chinstrap']\n",
            " [46.5 14.4 217.0 4900.0 'Gentoo']\n",
            " [46.1 15.1 215.0 5100.0 'Gentoo']\n",
            " [42.0 13.5 210.0 4150.0 'Gentoo']\n",
            " [48.5 14.1 220.0 5300.0 'Gentoo']\n",
            " [45.2 14.8 212.0 5200.0 'Gentoo']\n",
            " [51.3 19.2 193.0 3650.0 'Chinstrap']\n",
            " [46.1 18.2 178.0 3250.0 'Chinstrap']\n",
            " [46.8 15.4 215.0 5150.0 'Gentoo']\n",
            " [46.3 15.8 215.0 5050.0 'Gentoo']\n",
            " [46.8 16.5 189.0 3650.0 'Chinstrap']\n",
            " [45.4 14.6 211.0 4800.0 'Gentoo']\n",
            " [50.1 15.0 225.0 5000.0 'Gentoo']\n",
            " [50.6 19.4 193.0 3800.0 'Chinstrap']\n",
            " [48.4 14.6 213.0 5850.0 'Gentoo']\n",
            " [43.5 15.2 213.0 4650.0 'Gentoo']\n",
            " [50.7 15.0 223.0 5550.0 'Gentoo']\n",
            " [50.4 15.7 222.0 5750.0 'Gentoo']\n",
            " [52.0 18.1 201.0 4050.0 'Chinstrap']\n",
            " [42.9 13.1 215.0 5000.0 'Gentoo']\n",
            " [46.5 14.5 213.0 4400.0 'Gentoo']\n",
            " [45.1 14.5 215.0 5000.0 'Gentoo']\n",
            " [51.1 16.5 225.0 5250.0 'Gentoo']\n",
            " [50.8 15.7 226.0 5200.0 'Gentoo']\n",
            " [49.8 17.3 198.0 3675.0 'Chinstrap']\n",
            " [42.7 13.7 208.0 3950.0 'Gentoo']\n",
            " [45.3 13.8 208.0 4200.0 'Gentoo']\n",
            " [47.5 14.2 209.0 4600.0 'Gentoo']\n",
            " [49.0 16.1 216.0 5550.0 'Gentoo']\n",
            " [48.1 15.1 209.0 5500.0 'Gentoo']\n",
            " [49.3 19.9 203.0 4050.0 'Chinstrap']\n",
            " [48.1 16.4 199.0 3325.0 'Chinstrap']\n",
            " [45.2 15.8 215.0 5300.0 'Gentoo']\n",
            " [50.0 19.5 196.0 3900.0 'Chinstrap']\n",
            " [46.8 14.3 215.0 4850.0 'Gentoo']\n",
            " [54.2 20.8 201.0 4300.0 'Chinstrap']\n",
            " [47.3 15.3 222.0 5250.0 'Gentoo']\n",
            " [44.5 14.7 214.0 4850.0 'Gentoo']\n",
            " [43.3 13.4 209.0 4400.0 'Gentoo']\n",
            " [47.5 14.0 212.0 4875.0 'Gentoo']\n",
            " [52.2 18.8 197.0 3450.0 'Chinstrap']\n",
            " [45.1 14.5 207.0 5050.0 'Gentoo']\n",
            " [40.9 13.7 214.0 4650.0 'Gentoo']\n",
            " [50.1 17.9 190.0 3400.0 'Chinstrap']\n",
            " [47.5 15.0 218.0 4950.0 'Gentoo']\n",
            " [50.9 19.1 196.0 3550.0 'Chinstrap']\n",
            " [49.0 19.5 210.0 3950.0 'Chinstrap']\n",
            " [51.5 16.3 230.0 5500.0 'Gentoo']\n",
            " [49.8 16.8 230.0 5700.0 'Gentoo']\n",
            " [51.9 19.5 206.0 3950.0 'Chinstrap']\n",
            " [59.6 17.0 230.0 6050.0 'Gentoo']\n",
            " [49.0 19.6 212.0 4300.0 'Chinstrap']\n",
            " [49.1 14.8 220.0 5150.0 'Gentoo']\n",
            " [51.4 19.0 201.0 3950.0 'Chinstrap']\n",
            " [50.0 15.9 224.0 5350.0 'Gentoo']\n",
            " [51.0 18.8 203.0 4100.0 'Chinstrap']\n",
            " [46.2 17.5 187.0 3650.0 'Chinstrap']\n",
            " [49.4 15.8 216.0 4925.0 'Gentoo']\n",
            " [50.2 18.7 198.0 3775.0 'Chinstrap']\n",
            " [53.5 19.9 205.0 4500.0 'Chinstrap']\n",
            " [42.5 16.7 187.0 3350.0 'Chinstrap']\n",
            " [45.2 17.8 198.0 3950.0 'Chinstrap']\n",
            " [48.5 15.0 219.0 4850.0 'Gentoo']\n",
            " [51.7 20.3 194.0 3775.0 'Chinstrap']\n",
            " [52.0 19.0 197.0 4150.0 'Chinstrap']\n",
            " [45.8 14.2 219.0 4700.0 'Gentoo']\n",
            " [45.9 17.1 190.0 3575.0 'Chinstrap']\n",
            " [47.6 14.5 215.0 5400.0 'Gentoo']\n",
            " [46.4 15.6 221.0 5000.0 'Gentoo']\n",
            " [49.5 16.1 224.0 5650.0 'Gentoo']\n",
            " [55.1 16.0 230.0 5850.0 'Gentoo']\n",
            " [46.4 18.6 190.0 3450.0 'Chinstrap']\n",
            " [46.4 15.0 216.0 4700.0 'Gentoo']\n",
            " [49.5 19.0 200.0 3800.0 'Chinstrap']\n",
            " [45.8 14.6 210.0 4200.0 'Gentoo']\n",
            " [45.0 15.4 220.0 5050.0 'Gentoo']\n",
            " [47.5 16.8 199.0 3900.0 'Chinstrap']\n",
            " [48.7 14.1 210.0 4450.0 'Gentoo']\n",
            " [52.0 20.7 210.0 4800.0 'Chinstrap']\n",
            " [42.5 17.3 187.0 3350.0 'Chinstrap']\n",
            " [47.4 14.6 212.0 4725.0 'Gentoo']\n",
            " [43.8 13.9 208.0 4300.0 'Gentoo']\n",
            " [44.9 13.3 213.0 5100.0 'Gentoo']\n",
            " [45.7 17.0 195.0 3650.0 'Chinstrap']\n",
            " [46.2 14.9 221.0 5300.0 'Gentoo']\n",
            " [45.5 14.5 212.0 4750.0 'Gentoo']\n",
            " [42.4 17.3 181.0 3600.0 'Chinstrap']\n",
            " [49.1 15.0 228.0 5500.0 'Gentoo']\n",
            " [43.4 14.4 218.0 4600.0 'Gentoo']\n",
            " [50.2 18.8 202.0 3800.0 'Chinstrap']\n",
            " [50.2 14.3 218.0 5700.0 'Gentoo']]\n"
          ]
        }
      ]
    },
    {
      "cell_type": "markdown",
      "source": [
        "Now we will separate the inputs from the outputs"
      ],
      "metadata": {
        "id": "M3uYv0g-u3N5"
      }
    },
    {
      "cell_type": "code",
      "source": [
        "data_inputs = data_nump[:,:4]\n",
        "data_outputs = data_nump[:,4]\n",
        "\n"
      ],
      "metadata": {
        "id": "EvIFf3pWI1pb"
      },
      "execution_count": 206,
      "outputs": []
    },
    {
      "cell_type": "markdown",
      "source": [
        "We will also convert our outputs to numerical format (-1 for Gentoo and 1 for Chinstrap)"
      ],
      "metadata": {
        "id": "nqTyZo1PgUQl"
      }
    },
    {
      "cell_type": "code",
      "source": [
        "for d in range (data_outputs.size):\n",
        "  if (data_outputs[d] == 'Gentoo'):\n",
        "    data_outputs[d] = -1\n",
        "  elif(data_outputs[d] == 'Chinstrap'):\n",
        "    data_outputs[d] = 1"
      ],
      "metadata": {
        "id": "OdunZsA3LSfm"
      },
      "execution_count": 207,
      "outputs": []
    },
    {
      "cell_type": "code",
      "source": [
        "data_outputs\n",
        "\n",
        "\n"
      ],
      "metadata": {
        "colab": {
          "base_uri": "https://localhost:8080/"
        },
        "id": "35MVEb_CMABo",
        "outputId": "ba487e7e-8fd4-4f33-a75e-695519d6a620"
      },
      "execution_count": 208,
      "outputs": [
        {
          "output_type": "execute_result",
          "data": {
            "text/plain": [
              "array([1, -1, -1, -1, 1, -1, 1, 1, -1, 1, 1, -1, -1, -1, -1, -1, -1, -1,\n",
              "       -1, 1, 1, -1, 1, -1, -1, -1, -1, -1, 1, -1, -1, 1, -1, -1, -1, -1,\n",
              "       1, -1, -1, -1, -1, -1, 1, -1, 1, 1, -1, 1, 1, -1, -1, -1, -1, -1,\n",
              "       1, 1, -1, 1, -1, -1, 1, -1, 1, 1, -1, 1, -1, -1, -1, 1, 1, -1, -1,\n",
              "       1, -1, 1, 1, -1, -1, -1, 1, -1, -1, 1, -1, -1, -1, -1, 1, -1, -1,\n",
              "       -1, -1, -1, -1, 1, 1, -1, -1, -1, -1, -1, 1, 1, -1, -1, 1, -1, -1,\n",
              "       1, -1, -1, -1, -1, 1, -1, -1, -1, -1, -1, 1, -1, -1, -1, -1, -1, 1,\n",
              "       1, -1, 1, -1, 1, -1, -1, -1, -1, 1, -1, -1, 1, -1, 1, 1, -1, -1, 1,\n",
              "       -1, 1, -1, 1, -1, 1, 1, -1, 1, 1, 1, 1, -1, 1, 1, -1, 1, -1, -1,\n",
              "       -1, -1, 1, -1, 1, -1, -1, 1, -1, 1, 1, -1, -1, -1, 1, -1, -1, 1,\n",
              "       -1, -1, 1, -1], dtype=object)"
            ]
          },
          "metadata": {},
          "execution_count": 208
        }
      ]
    },
    {
      "cell_type": "markdown",
      "source": [
        "Now we will split our dataset into Training and Validation Sets"
      ],
      "metadata": {
        "id": "X9YLtJXDgkUW"
      }
    },
    {
      "cell_type": "code",
      "source": [
        "validation = int(np.floor(0.2*data_outputs.size))\n",
        "training = data_outputs.size - validation\n",
        "train_X = data_inputs[:training, :]\n",
        "train_Y = data_outputs[:training]\n",
        "Valid_X = data_inputs[training:, :]\n",
        "Valid_Y = data_outputs[training:]\n",
        "\n"
      ],
      "metadata": {
        "id": "hJUxMvJsRKjz"
      },
      "execution_count": 222,
      "outputs": []
    },
    {
      "cell_type": "markdown",
      "source": [
        "Now we will Standardize our Inputs, so the ranges are much more consistent, by using mean and standard deviation"
      ],
      "metadata": {
        "id": "zq9zF4gygrGi"
      }
    },
    {
      "cell_type": "code",
      "source": [
        "train_mean = np.mean(train_X, axis = 0)\n",
        "train_std = np.std(train_X, axis =0,  dtype = 'float32')\n",
        "\n",
        "train_X = (train_X-train_mean)/train_std\n",
        "valid_X = (Valid_X-train_mean)/train_std"
      ],
      "metadata": {
        "id": "_t8Wahu6Sm3L"
      },
      "execution_count": 224,
      "outputs": []
    },
    {
      "cell_type": "code",
      "source": [
        "X_row , X_column = train_X.shape"
      ],
      "metadata": {
        "id": "6Xj_1oJrU9BF"
      },
      "execution_count": 229,
      "outputs": []
    },
    {
      "cell_type": "markdown",
      "source": [
        "Now we create a random set of Weights which will be augmented with a bias. This makes the weights a 5x1 instead of 4x1"
      ],
      "metadata": {
        "id": "iTEvtJ8hhJuH"
      }
    },
    {
      "cell_type": "code",
      "source": [
        "np.random.seed(42)\n",
        "Weights = np.random.rand((X_column)+1)"
      ],
      "metadata": {
        "colab": {
          "base_uri": "https://localhost:8080/"
        },
        "id": "DpwbGt_SV2QM",
        "outputId": "15dfb94d-ef79-4a40-900f-d0496ab2bf9d"
      },
      "execution_count": 231,
      "outputs": [
        {
          "output_type": "execute_result",
          "data": {
            "text/plain": [
              "array([0.37454012, 0.95071431, 0.73199394, 0.59865848, 0.15601864])"
            ]
          },
          "metadata": {},
          "execution_count": 231
        }
      ]
    },
    {
      "cell_type": "markdown",
      "source": [
        "Now we will define the activation function"
      ],
      "metadata": {
        "id": "U8SmOjJAhZGk"
      }
    },
    {
      "cell_type": "code",
      "source": [
        "def activation(z):\n",
        "  return ((z>=0)*2.0 - 1.0)\n"
      ],
      "metadata": {
        "id": "DfGYTuchWzj8"
      },
      "execution_count": 233,
      "outputs": []
    },
    {
      "cell_type": "markdown",
      "source": [
        "We will also augment our Training Inputs by adding a column of 1s to account for the bias"
      ],
      "metadata": {
        "id": "FnuGwL7Ihd_U"
      }
    },
    {
      "cell_type": "code",
      "source": [
        "train_X = np.column_stack((train_X, np.ones(X_row)))\n"
      ],
      "metadata": {
        "id": "xcz3Qz0UW2vP"
      },
      "execution_count": 234,
      "outputs": []
    },
    {
      "cell_type": "code",
      "source": [
        "Weights.shape"
      ],
      "metadata": {
        "colab": {
          "base_uri": "https://localhost:8080/"
        },
        "id": "AbJnGX36Xols",
        "outputId": "352b58d0-89a6-4a38-fa49-f87ddffd361c"
      },
      "execution_count": 237,
      "outputs": [
        {
          "output_type": "execute_result",
          "data": {
            "text/plain": [
              "(5,)"
            ]
          },
          "metadata": {},
          "execution_count": 237
        }
      ]
    },
    {
      "cell_type": "markdown",
      "source": [
        "We will now create a Simple Perceptron model that is able to Feedforward using the inputs and weights"
      ],
      "metadata": {
        "id": "DIVTfOzwhrbY"
      }
    },
    {
      "cell_type": "code",
      "source": [
        "def perceptron(X,W):\n",
        "  z = np.dot(X,W)\n",
        "  return (activation(z))"
      ],
      "metadata": {
        "id": "C4XJfsT1X0pN"
      },
      "execution_count": 238,
      "outputs": []
    },
    {
      "cell_type": "code",
      "source": [
        "predicted_outputs = perceptron(train_X, Weights)"
      ],
      "metadata": {
        "id": "6WUwBY7LYhvA"
      },
      "execution_count": 242,
      "outputs": []
    },
    {
      "cell_type": "markdown",
      "source": [
        "In order to backprop, we must update the weights by adding a weight update term that must be calculated using the risduals multiplied by their respective inputs"
      ],
      "metadata": {
        "id": "s3cszmbgh6RN"
      }
    },
    {
      "cell_type": "code",
      "source": [
        "def weight_update(predicted, actual, inputs):\n",
        "  return np.dot((0.01)*(actual- predicted), inputs)"
      ],
      "metadata": {
        "id": "b_IjHDuaY0oL"
      },
      "execution_count": 257,
      "outputs": []
    },
    {
      "cell_type": "code",
      "source": [
        "w= weight_update(predicted_outputs,train_Y, train_X)"
      ],
      "metadata": {
        "id": "ZGWGs-Msc2aD"
      },
      "execution_count": 265,
      "outputs": []
    },
    {
      "cell_type": "markdown",
      "source": [
        "Now we will calculate the Accuracy by just taking the mean of the difference between the Actual values vs the Predicted values of the Training dataset"
      ],
      "metadata": {
        "id": "GS6Ty-Mbkl5I"
      }
    },
    {
      "cell_type": "code",
      "source": [
        "def acc(predicted, actual):\n",
        " return ((actual - predicted)).mean()"
      ],
      "metadata": {
        "id": "99xgdtgvd13X"
      },
      "execution_count": 263,
      "outputs": []
    },
    {
      "cell_type": "markdown",
      "source": [
        "We seem to get an accuracy of 40% which isn't great but this is the output that used randomized weights and biases, without any updates"
      ],
      "metadata": {
        "id": "UQxThUQPlv_G"
      }
    },
    {
      "cell_type": "code",
      "source": [
        "acc(predicted_outputs, train_Y)"
      ],
      "metadata": {
        "colab": {
          "base_uri": "https://localhost:8080/"
        },
        "id": "sKg5453QeP3V",
        "outputId": "41642ccc-3695-4af4-a950-642130a636f5"
      },
      "execution_count": 264,
      "outputs": [
        {
          "output_type": "execute_result",
          "data": {
            "text/plain": [
              "-0.4"
            ]
          },
          "metadata": {},
          "execution_count": 264
        }
      ]
    },
    {
      "cell_type": "markdown",
      "source": [
        "We will now iterate the same process using the Validation Set as well as using the updated weights values"
      ],
      "metadata": {
        "id": "sWrAHUq9oarm"
      }
    },
    {
      "cell_type": "code",
      "source": [
        "Weights_new = Weights + w"
      ],
      "metadata": {
        "id": "CI0XUlIQmE6L"
      },
      "execution_count": 266,
      "outputs": []
    },
    {
      "cell_type": "code",
      "source": [
        "XV_row , XV_column =Valid_X.shape"
      ],
      "metadata": {
        "id": "5ez5BZ_gmwnS"
      },
      "execution_count": 268,
      "outputs": []
    },
    {
      "cell_type": "code",
      "source": [
        "Valid_X = np.column_stack((Valid_X, np.ones(XV_row)))"
      ],
      "metadata": {
        "id": "Ak6MtRrtmUrx"
      },
      "execution_count": 269,
      "outputs": []
    },
    {
      "cell_type": "code",
      "source": [
        "predicted_outputs_v = perceptron(Valid_X, Weights_new)"
      ],
      "metadata": {
        "id": "NzWW89V4m4_5"
      },
      "execution_count": 270,
      "outputs": []
    },
    {
      "cell_type": "code",
      "source": [
        "w_v = weight_update(predicted_outputs_v,Valid_Y,Valid_X)"
      ],
      "metadata": {
        "colab": {
          "base_uri": "https://localhost:8080/"
        },
        "id": "hLWY7oyQnIqj",
        "outputId": "6ed77dc6-7631-4ff1-b60b-abf1b96fb63d"
      },
      "execution_count": 272,
      "outputs": [
        {
          "output_type": "execute_result",
          "data": {
            "text/plain": [
              "array([16.288, 6.226000000000001, 66.46, 1303.5, 0.34], dtype=object)"
            ]
          },
          "metadata": {},
          "execution_count": 272
        }
      ]
    },
    {
      "cell_type": "markdown",
      "source": [
        "We do now notice that the accuracy has improved by alot. However upon closer inspection, this doesn't really mean that model is doing good, as we notice that the model seems to constantly be predicting values of -1. This can maybe be improved by running the data for more epochs, but we at least demonstrated that the Perceptron model code works"
      ],
      "metadata": {
        "id": "1e-Hkq4ForWm"
      }
    },
    {
      "cell_type": "code",
      "source": [
        "acc(predicted_outputs_v, Valid_Y)"
      ],
      "metadata": {
        "colab": {
          "base_uri": "https://localhost:8080/"
        },
        "id": "7wkteUM7nm-A",
        "outputId": "5e8f9939-dea7-4637-bb76-033b6f434788"
      },
      "execution_count": 273,
      "outputs": [
        {
          "output_type": "execute_result",
          "data": {
            "text/plain": [
              "0.918918918918919"
            ]
          },
          "metadata": {},
          "execution_count": 273
        }
      ]
    },
    {
      "cell_type": "code",
      "source": [
        "predicted_outputs_v"
      ],
      "metadata": {
        "colab": {
          "base_uri": "https://localhost:8080/"
        },
        "id": "EqOaSE4rn19X",
        "outputId": "f312585a-af46-4b98-b63c-e3c7a8449749"
      },
      "execution_count": 274,
      "outputs": [
        {
          "output_type": "execute_result",
          "data": {
            "text/plain": [
              "array([-1., -1., -1., -1., -1., -1., -1., -1., -1., -1., -1., -1., -1.,\n",
              "       -1., -1., -1., -1., -1., -1., -1., -1., -1., -1., -1., -1., -1.,\n",
              "       -1., -1., -1., -1., -1., -1., -1., -1., -1., -1., -1.])"
            ]
          },
          "metadata": {},
          "execution_count": 274
        }
      ]
    },
    {
      "cell_type": "code",
      "source": [
        "Valid_Y"
      ],
      "metadata": {
        "colab": {
          "base_uri": "https://localhost:8080/"
        },
        "id": "P8VV8Sdrn5pd",
        "outputId": "25ea80a3-9e11-42c5-bedd-f583c3832f4e"
      },
      "execution_count": 275,
      "outputs": [
        {
          "output_type": "execute_result",
          "data": {
            "text/plain": [
              "array([-1, 1, 1, -1, 1, 1, 1, 1, -1, 1, 1, -1, 1, -1, -1, -1, -1, 1, -1,\n",
              "       1, -1, -1, 1, -1, 1, 1, -1, -1, -1, 1, -1, -1, 1, -1, -1, 1, -1],\n",
              "      dtype=object)"
            ]
          },
          "metadata": {},
          "execution_count": 275
        }
      ]
    }
  ]
}